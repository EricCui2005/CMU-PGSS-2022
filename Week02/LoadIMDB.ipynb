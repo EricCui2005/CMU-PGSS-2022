{
  "nbformat": 4,
  "nbformat_minor": 0,
  "metadata": {
    "colab": {
      "name": "LoadIMDB.ipynb",
      "provenance": [],
      "collapsed_sections": []
    },
    "kernelspec": {
      "name": "python3",
      "display_name": "Python 3"
    },
    "language_info": {
      "name": "python"
    },
    "accelerator": "GPU",
    "gpuClass": "standard"
  },
  "cells": [
    {
      "cell_type": "code",
      "execution_count": null,
      "metadata": {
        "colab": {
          "base_uri": "https://localhost:8080/"
        },
        "id": "77ovxoLVIMND",
        "outputId": "b0450604-433b-4956-d8ba-bf3dc8c38528"
      },
      "outputs": [
        {
          "output_type": "stream",
          "name": "stdout",
          "text": [
            "Mounted at /content/gdrive\n"
          ]
        }
      ],
      "source": [
        "from google.colab import drive\n",
        "drive.mount('/content/gdrive')"
      ]
    },
    {
      "cell_type": "code",
      "source": [
        "!pip install ktrain"
      ],
      "metadata": {
        "id": "PmTy2yMZMl4p"
      },
      "execution_count": null,
      "outputs": []
    },
    {
      "cell_type": "code",
      "source": [
        "!pip install clean-text"
      ],
      "metadata": {
        "id": "CKR9l4j-Mmx5"
      },
      "execution_count": null,
      "outputs": []
    },
    {
      "cell_type": "code",
      "source": [
        "!pip install nltk"
      ],
      "metadata": {
        "id": "3RwX_MqJMuHt"
      },
      "execution_count": null,
      "outputs": []
    },
    {
      "cell_type": "code",
      "source": [
        "import nltk\n",
        "nltk.download('stopwords')"
      ],
      "metadata": {
        "id": "nXv2s0D2M5DJ"
      },
      "execution_count": null,
      "outputs": []
    },
    {
      "cell_type": "code",
      "source": [
        "import ktrain\n",
        "from ktrain import text\n",
        "import pandas as pd\n",
        "from sklearn.model_selection import train_test_split\n",
        "import numpy as np\n",
        "import string\n",
        "import re\n",
        "from cleantext import clean\n",
        "\n",
        "import torch\n",
        "from transformers.file_utils import is_tf_available, is_torch_available, is_torch_tpu_available\n",
        "from transformers import BertTokenizerFast, BertForSequenceClassification\n",
        "from transformers import Trainer, TrainingArguments\n",
        "\n",
        "import nltk\n",
        "# nltk.download('stopwords')\n",
        "import string\n",
        "from nltk.tokenize import word_tokenize\n",
        "\n",
        "from nltk.corpus import stopwords\n",
        "sw = set(stopwords.words('english'))\n",
        "\n",
        "import os\n",
        "os.environ[\"CUDA_DEVICE_ORDER\"]=\"PCI_BUS_ID\";\n",
        "os.environ[\"CUDA_VISIBLE_DEVICES\"]=\"0\"; "
      ],
      "metadata": {
        "colab": {
          "base_uri": "https://localhost:8080/"
        },
        "id": "Kcuyxz0fIaM8",
        "outputId": "5353ded5-9811-4e85-c08c-3191f4be55ac"
      },
      "execution_count": null,
      "outputs": [
        {
          "output_type": "stream",
          "name": "stderr",
          "text": [
            "Since the GPL-licensed package `unidecode` is not installed, using Python's `unicodedata` package which yields worse results.\n"
          ]
        }
      ]
    },
    {
      "cell_type": "code",
      "source": [
        "import pandas as pd\n",
        "df = pd.read_csv(\"/content/gdrive/MyDrive/PGSS2022/L3-7-8-2022/IMDB Dataset.csv\")"
      ],
      "metadata": {
        "id": "O0DRO4WpM9i8"
      },
      "execution_count": null,
      "outputs": []
    },
    {
      "cell_type": "code",
      "source": [
        "df.head()"
      ],
      "metadata": {
        "id": "wdKeMQCSNUj0"
      },
      "execution_count": null,
      "outputs": []
    },
    {
      "cell_type": "code",
      "source": [
        "cleaned_df = []\n",
        "\n",
        "for i in df[\"review\"]:\n",
        "    i = clean(i,no_urls=True, replace_with_url=\"\", no_digits=True,\n",
        "              replace_with_digit=\"\",fix_unicode = True, lower = True)\n",
        "    \n",
        "    cleaned_df.append(i)\n",
        "  \n"
      ],
      "metadata": {
        "id": "IFoX8lEHNV3Q"
      },
      "execution_count": null,
      "outputs": []
    },
    {
      "cell_type": "code",
      "source": [
        "cleaned_df[:2]"
      ],
      "metadata": {
        "id": "BxDrAWSqNzDS"
      },
      "execution_count": null,
      "outputs": []
    },
    {
      "cell_type": "code",
      "source": [
        "def remove_html_markup(s):\n",
        "    tag = False\n",
        "    quote = False\n",
        "    out = \"\"\n",
        "\n",
        "    for c in s:\n",
        "            if c == '<' and not quote:\n",
        "                tag = True\n",
        "            elif c == '>' and not quote:\n",
        "                tag = False\n",
        "            elif (c == '\"' or c == \"'\") and tag:\n",
        "                quote = not quote\n",
        "            elif not tag:\n",
        "                out = out + c\n",
        "\n",
        "    return out"
      ],
      "metadata": {
        "id": "luGHw7g-OCTQ"
      },
      "execution_count": null,
      "outputs": []
    },
    {
      "cell_type": "code",
      "source": [
        "cleaned_df2 = []\n",
        "\n",
        "for i, _ in enumerate(cleaned_df):\n",
        "    cleanedtemp = remove_html_markup(cleaned_df[i])\n",
        "    cleaned_df2.append(cleanedtemp)\n",
        "  \n",
        "cleaned_df2[0]"
      ],
      "metadata": {
        "id": "LcTo7N7sOZsa"
      },
      "execution_count": null,
      "outputs": []
    },
    {
      "cell_type": "code",
      "source": [
        ""
      ],
      "metadata": {
        "id": "f_h4oUwDOcXd"
      },
      "execution_count": null,
      "outputs": []
    }
  ]
}